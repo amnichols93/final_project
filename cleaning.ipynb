{
 "cells": [
  {
   "cell_type": "code",
   "execution_count": null,
   "metadata": {},
   "outputs": [],
   "source": [
    "import pandas as pd\n",
    "import numpy as np\n",
    "import os\n",
    "import re\n",
    "import matplotlib as plt"
   ]
  },
  {
   "cell_type": "code",
   "execution_count": 1,
   "metadata": {},
   "outputs": [
    {
     "ename": "NameError",
     "evalue": "name 'pd' is not defined",
     "output_type": "error",
     "traceback": [
      "\u001b[1;31m---------------------------------------------------------------------------\u001b[0m",
      "\u001b[1;31mNameError\u001b[0m                                 Traceback (most recent call last)",
      "\u001b[1;32m<ipython-input-1-dcd225401c40>\u001b[0m in \u001b[0;36m<module>\u001b[1;34m\u001b[0m\n\u001b[1;32m----> 1\u001b[1;33m \u001b[0msf_df\u001b[0m \u001b[1;33m=\u001b[0m \u001b[0mpd\u001b[0m\u001b[1;33m.\u001b[0m\u001b[0mread_csv\u001b[0m\u001b[1;33m(\u001b[0m\u001b[1;34m'Resources/sf_df.csv'\u001b[0m\u001b[1;33m)\u001b[0m\u001b[1;33m\u001b[0m\u001b[1;33m\u001b[0m\u001b[0m\n\u001b[0m\u001b[0;32m      2\u001b[0m \u001b[0mrams_df\u001b[0m \u001b[1;33m=\u001b[0m \u001b[0mpd\u001b[0m\u001b[1;33m.\u001b[0m\u001b[0mread_csv\u001b[0m\u001b[1;33m(\u001b[0m\u001b[1;34m'Resources/rams_df.csv'\u001b[0m\u001b[1;33m)\u001b[0m\u001b[1;33m\u001b[0m\u001b[1;33m\u001b[0m\u001b[0m\n\u001b[0;32m      3\u001b[0m \u001b[0mchargers_df\u001b[0m \u001b[1;33m=\u001b[0m \u001b[0mpd\u001b[0m\u001b[1;33m.\u001b[0m\u001b[0mread_csv\u001b[0m\u001b[1;33m(\u001b[0m\u001b[1;34m'Resources/chargers_df.csv'\u001b[0m\u001b[1;33m)\u001b[0m\u001b[1;33m\u001b[0m\u001b[1;33m\u001b[0m\u001b[0m\n\u001b[0;32m      4\u001b[0m \u001b[0mchargers_df\u001b[0m \u001b[1;33m=\u001b[0m \u001b[0mpd\u001b[0m\u001b[1;33m.\u001b[0m\u001b[0mread_csv\u001b[0m\u001b[1;33m(\u001b[0m\u001b[1;34m'Resources/chargers_df.csv'\u001b[0m\u001b[1;33m)\u001b[0m\u001b[1;33m\u001b[0m\u001b[1;33m\u001b[0m\u001b[0m\n\u001b[0;32m      5\u001b[0m \u001b[0mchargers_df\u001b[0m \u001b[1;33m=\u001b[0m \u001b[0mpd\u001b[0m\u001b[1;33m.\u001b[0m\u001b[0mread_csv\u001b[0m\u001b[1;33m(\u001b[0m\u001b[1;34m'Resources/chargers_df.csv'\u001b[0m\u001b[1;33m)\u001b[0m\u001b[1;33m\u001b[0m\u001b[1;33m\u001b[0m\u001b[0m\n",
      "\u001b[1;31mNameError\u001b[0m: name 'pd' is not defined"
     ]
    }
   ],
   "source": [
    "niners_df = pd.read_csv('Resources/niners.csv')\n",
    "rams_df = pd.read_csv('Resources/rams.csv')\n",
    "chargers_df = pd.read_csv('Resources/chargers.csv')\n",
    "seahawks_df = pd.read_csv('Resources/seahawks.csv')\n",
    "cardinals_df = pd.read_csv('Resources/cardinals.csv')\n",
    "packers_df = pd.read_csv('Resources/packers.csv')\n",
    "saints_df = pd.read_csv('Resources/saints.csv')\n",
    "giants_df = pd.read_csv('Resources/giants.csv')\n",
    "bears_df = pd.read_csv('Resources/bears.csv')\n",
    "panthers_df = pd.read_csv('Resources/panthers.csv')\n",
    "bucs_df = pd.read_csv('Resources/bucs.csv')\n",
    "falcons_df = pd.read_csv('Resources/falcons.csv')\n",
    "wash_df = pd.read_csv('Resources/wash.csv')\n",
    "ravens_df = pd.read_csv('Resources/ravens.csv')\n",
    "eagles_df = pd.read_csv('Resources/eagles.csv')\n",
    "cowboys_df = pd.read_csv('Resources/cowboys.csv')\n",
    "chiefs_df = pd.read_csv('Resources/chiefs.csv')\n",
    "lions_df = pd.read_csv('Resources/lions.csv')\n",
    "vikings_df = pd.read_csv('Resources/vikings.csv')\n",
    "bengals_df = pd.read_csv('Resources/bengals.csv')\n",
    "raiders_df = pd.read_csv('Resources/raiders.csv')\n",
    "steelers_df = pd.read_csv('Resources/steelers.csv')\n",
    "browns_df = pd.read_csv('Resources/browns.csv')\n",
    "broncos_df = pd.read_csv('Resources/broncos.csv')\n",
    "colts_df = pd.read_csv('Resources/colts.csv')\n",
    "texans_df = pd.read_csv('Resources/texans.csv')\n",
    "jets_df = pd.read_csv('Resources/jets.csv')\n",
    "jaguars_df = pd.read_csv('Resources/jaguars.csv')\n",
    "dolphins_df = pd.read_csv('Resources/dolphins.csv')\n",
    "pats_df = pd.read_csv('Resources/pats.csv')\n",
    "bills_df = pd.read_csv('Resources/bills.csv')\n",
    "titans_df = pd.read_csv('Resources/titans.csv')"
   ]
  },
  {
   "cell_type": "code",
   "execution_count": null,
   "metadata": {},
   "outputs": [],
   "source": [
    "allteam_df = niners_df.append(rams_df, ignore_index=True)\n",
    "allteam_df = allteam_df.append(chargers_df, ignore_index=True)\n",
    "allteam_df = allteam_df.append(seahawks_df, ignore_index=True)\n",
    "allteam_df = allteam_df.append(cardinals_df, ignore_index=True)\n",
    "allteam_df = allteam_df.append(packers_df, ignore_index=True)\n",
    "allteam_df = allteam_df.append(saints_df, ignore_index=True)\n",
    "allteam_df = allteam_df.append(giants_df, ignore_index=True)\n",
    "allteam_df = allteam_df.append(bears_df, ignore_index=True)\n",
    "allteam_df = allteam_df.append(panthers_df, ignore_index=True)\n",
    "allteam_df = allteam_df.append(bucs_df, ignore_index=True)\n",
    "allteam_df = allteam_df.append(falcons_df, ignore_index=True)\n",
    "allteam_df = allteam_df.append(wash_df, ignore_index=True)\n",
    "allteam_df = allteam_df.append(ravens_df, ignore_index=True)\n",
    "allteam_df = allteam_df.append(eagles_df, ignore_index=True)\n",
    "allteam_df = allteam_df.append(cowboys_df, ignore_index=True)\n",
    "allteam_df = allteam_df.append(chiefs_df, ignore_index=True)\n",
    "allteam_df = allteam_df.append(lions_df, ignore_index=True)\n",
    "allteam_df = allteam_df.append(vikings_df, ignore_index=True)\n",
    "allteam_df = allteam_df.append(bengals_df, ignore_index=True)\n",
    "allteam_df = allteam_df.append(raiders_df, ignore_index=True)\n",
    "allteam_df = allteam_df.append(steelers_df, ignore_index=True)\n",
    "allteam_df = allteam_df.append(browns_df, ignore_index=True)\n",
    "allteam_df = allteam_df.append(broncos_df, ignore_index=True)\n",
    "allteam_df = allteam_df.append(colts_df, ignore_index=True)\n",
    "allteam_df = allteam_df.append(texans_df, ignore_index=True)\n",
    "allteam_df = allteam_df.append(jets_df, ignore_index=True)\n",
    "allteam_df = allteam_df.append(jaguars_df, ignore_index=True)\n",
    "allteam_df = allteam_df.append(dolphins_df, ignore_index=True)\n",
    "allteam_df = allteam_df.append(pats_df, ignore_index=True)\n",
    "allteam_df = allteam_df.append(bills_df, ignore_index=True)\n",
    "allteam_df = allteam_df.append(titans_df, ignore_index=True)"
   ]
  },
  {
   "cell_type": "code",
   "execution_count": null,
   "metadata": {},
   "outputs": [],
   "source": [
    "allteam_df['Opp'] = allteam_df['Opp'].replace(['Los Angeles Rams', 'St. Louis Rams'], 'Rams')\n",
    "allteam_df['Opp'] = allteam_df['Opp'].replace(['Los Angeles Chargers', 'San Diego Chargers'], 'Chargers')\n",
    "allteam_df['Opp'] = allteam_df['Opp'].replace('Seattle Seahawks', 'Seahawks')\n",
    "allteam_df['Opp'] = allteam_df['Opp'].replace('Arizona Cardinals', 'Cardinals')\n",
    "allteam_df['Opp'] = allteam_df['Opp'].replace('Green Bay Packers', 'Packers')\n",
    "allteam_df['Opp'] = allteam_df['Opp'].replace('New Orleans Saints', 'Saints')\n",
    "allteam_df['Opp'] = allteam_df['Opp'].replace('New York Giants', 'Giants')\n",
    "allteam_df['Opp'] = allteam_df['Opp'].replace('Chicago Bears', 'Bears')\n",
    "allteam_df['Opp'] = allteam_df['Opp'].replace('Carolina Panthers', 'Panthers')\n",
    "allteam_df['Opp'] = allteam_df['Opp'].replace('Tampa Bay Buccaneers', 'Buccaneers')\n",
    "allteam_df['Opp'] = allteam_df['Opp'].replace('Atlanta Falcons', 'Falcons')\n",
    "allteam_df['Opp'] = allteam_df['Opp'].replace('Washington Redskins', 'Washington')\n",
    "allteam_df['Opp'] = allteam_df['Opp'].replace('Baltimore Ravens', 'Ravens')\n",
    "allteam_df['Opp'] = allteam_df['Opp'].replace('Philadelphia Eagles', 'Eagles')\n",
    "allteam_df['Opp'] = allteam_df['Opp'].replace('Dallas Cowboys', 'Cowboys')\n",
    "allteam_df['Opp'] = allteam_df['Opp'].replace('Kansas City Chiefs', 'Chiefs')\n",
    "allteam_df['Opp'] = allteam_df['Opp'].replace('Detroit Lions', 'Lions')\n",
    "allteam_df['Opp'] = allteam_df['Opp'].replace('Minnesota Vikings', 'Vikings')\n",
    "allteam_df['Opp'] = allteam_df['Opp'].replace('Cincinnati Bengals', 'Bengals')\n",
    "allteam_df['Opp'] = allteam_df['Opp'].replace('Oakland Raiders', 'Raiders')\n",
    "allteam_df['Opp'] = allteam_df['Opp'].replace('Pittsburgh Steelers', 'Steelers')\n",
    "allteam_df['Opp'] = allteam_df['Opp'].replace('Cleveland Browns', 'Browns')\n",
    "allteam_df['Opp'] = allteam_df['Opp'].replace('Denver Broncos', 'Broncos')\n",
    "allteam_df['Opp'] = allteam_df['Opp'].replace('Indianapolis Colts', 'Colts')\n",
    "allteam_df['Opp'] = allteam_df['Opp'].replace('Houston Texans', 'Texans')\n",
    "allteam_df['Opp'] = allteam_df['Opp'].replace('New York Jets', 'Jets')\n",
    "allteam_df['Opp'] = allteam_df['Opp'].replace('Jacksonville Jaguars', 'Jaguars')\n",
    "allteam_df['Opp'] = allteam_df['Opp'].replace('Miami Dolphins', 'Dolphins')\n",
    "allteam_df['Opp'] = allteam_df['Opp'].replace('New England Patriots', 'Patriots')\n",
    "allteam_df['Opp'] = allteam_df['Opp'].replace('Buffalo Bills', 'Bills')\n",
    "allteam_df['Opp'] = allteam_df['Opp'].replace('Tennessee Titans', 'Titans')\n",
    "allteam_df['Opp'] = allteam_df['Opp'].replace('San Francisco 49ers', '49ers')\n",
    "\n",
    "allteam_df['Home_Team'] = allteam_df['Home_Team'].replace(['Los Angeles Rams', 'St. Louis Rams'], 'Rams')\n",
    "allteam_df['Home_Team'] = allteam_df['Home_Team'].replace(['Los Angeles Chargers', 'San Diego Chargers'], 'Chargers')\n",
    "allteam_df['Home_Team'] = allteam_df['Home_Team'].replace('Seattle Seahawks', 'Seahawks')\n",
    "allteam_df['Home_Team'] = allteam_df['Home_Team'].replace('Arizona Cardinals', 'Cardinals')\n",
    "allteam_df['Home_Team'] = allteam_df['Home_Team'].replace('Green Bay Packers', 'Packers')\n",
    "allteam_df['Home_Team'] = allteam_df['Home_Team'].replace('New Orleans Saints', 'Saints')\n",
    "allteam_df['Home_Team'] = allteam_df['Home_Team'].replace('New York Giants', 'Giants')\n",
    "allteam_df['Home_Team'] = allteam_df['Home_Team'].replace('Chicago Bears', 'Bears')\n",
    "allteam_df['Home_Team'] = allteam_df['Home_Team'].replace('Carolina Panthers', 'Panthers')\n",
    "allteam_df['Home_Team'] = allteam_df['Home_Team'].replace('Tampa Bay Buccaneers', 'Buccaneers')\n",
    "allteam_df['Home_Team'] = allteam_df['Home_Team'].replace('Atlanta Falcons', 'Falcons')\n",
    "allteam_df['Home_Team'] = allteam_df['Home_Team'].replace('Washington Redskins', 'Washington')\n",
    "allteam_df['Home_Team'] = allteam_df['Home_Team'].replace('Baltimore Ravens', 'Ravens')\n",
    "allteam_df['Home_Team'] = allteam_df['Home_Team'].replace('Philadelphia Eagles', 'Eagles')\n",
    "allteam_df['Home_Team'] = allteam_df['Home_Team'].replace('Dallas Cowboys', 'Cowboys')\n",
    "allteam_df['Home_Team'] = allteam_df['Home_Team'].replace('Kansas City Chiefs', 'Chiefs')\n",
    "allteam_df['Home_Team'] = allteam_df['Home_Team'].replace('Detroit Lions', 'Lions')\n",
    "allteam_df['Home_Team'] = allteam_df['Home_Team'].replace('Minnesota Vikings', 'Vikings')\n",
    "allteam_df['Home_Team'] = allteam_df['Home_Team'].replace('Cincinnati Bengals', 'Bengals')\n",
    "allteam_df['Home_Team'] = allteam_df['Home_Team'].replace('Oakland Raiders', 'Raiders')\n",
    "allteam_df['Home_Team'] = allteam_df['Home_Team'].replace('Pittsburgh Steelers', 'Steelers')\n",
    "allteam_df['Home_Team'] = allteam_df['Home_Team'].replace('Cleveland Browns', 'Browns')\n",
    "allteam_df['Home_Team'] = allteam_df['Home_Team'].replace('Denver Broncos', 'Broncos')\n",
    "allteam_df['Home_Team'] = allteam_df['Home_Team'].replace('Indianapolis Colts', 'Colts')\n",
    "allteam_df['Home_Team'] = allteam_df['Home_Team'].replace('Houston Texans', 'Texans')\n",
    "allteam_df['Home_Team'] = allteam_df['Home_Team'].replace('New York Jets', 'Jets')\n",
    "allteam_df['Home_Team'] = allteam_df['Home_Team'].replace('Jacksonville Jaguars', 'Jaguars')\n",
    "allteam_df['Home_Team'] = allteam_df['Home_Team'].replace('Miami Dolphins', 'Dolphins')\n",
    "allteam_df['Home_Team'] = allteam_df['Home_Team'].replace('New England Patriots', 'Patriots')\n",
    "allteam_df['Home_Team'] = allteam_df['Home_Team'].replace('Buffalo Bills', 'Bills')\n",
    "allteam_df['Home_Team'] = allteam_df['Home_Team'].replace('Tennessee Titans', 'Titans')\n",
    "allteam_df['Home_Team'] = allteam_df['Home_Team'].replace('San Francisco 49ers', '49ers')"
   ]
  },
  {
   "cell_type": "code",
   "execution_count": null,
   "metadata": {},
   "outputs": [],
   "source": [
    "vcount_summary(allteam_df, cat_list=cat_columns(allteam_df))"
   ]
  },
  {
   "cell_type": "code",
   "execution_count": null,
   "metadata": {},
   "outputs": [],
   "source": [
    "#other_bucket(df=allteam_df, column='Day', cutoff=20)"
   ]
  },
  {
   "cell_type": "code",
   "execution_count": null,
   "metadata": {},
   "outputs": [],
   "source": [
    "#allteam_df = allteam_df[allteam_df['Week'].isnull() == False]\n",
    "#allteam_df"
   ]
  }
 ],
 "metadata": {
  "kernelspec": {
   "display_name": "PythonData",
   "language": "python",
   "name": "pythondata"
  },
  "language_info": {
   "codemirror_mode": {
    "name": "ipython",
    "version": 3
   },
   "file_extension": ".py",
   "mimetype": "text/x-python",
   "name": "python",
   "nbconvert_exporter": "python",
   "pygments_lexer": "ipython3",
   "version": "3.8.3"
  }
 },
 "nbformat": 4,
 "nbformat_minor": 4
}
