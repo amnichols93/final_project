{
 "cells": [
  {
   "cell_type": "markdown",
   "metadata": {},
   "source": [
    "### Import Dependencies"
   ]
  },
  {
   "cell_type": "code",
   "execution_count": 14,
   "metadata": {},
   "outputs": [],
   "source": [
    "import pandas as pd\n",
    "import numpy as np\n",
    "import os"
   ]
  },
  {
   "cell_type": "markdown",
   "metadata": {},
   "source": [
    "### Formulas"
   ]
  },
  {
   "cell_type": "code",
   "execution_count": 15,
   "metadata": {},
   "outputs": [],
   "source": [
    "# Make function to bucket low values into 'other' type\n",
    "def other_bucket(df, column, cutoff):\n",
    "    counts = df[column].value_counts()\n",
    "    replacements = list(counts[counts <= cutoff].index)\n",
    "    \n",
    "    for i in replacements:\n",
    "        df[column] = df[column].replace(i, 'Other')"
   ]
  },
  {
   "cell_type": "code",
   "execution_count": 16,
   "metadata": {},
   "outputs": [],
   "source": [
    "# Generate our categorical variable list\n",
    "def cat_columns(df):\n",
    "    cats = df.dtypes[df.dtypes == \"object\"].index.tolist()\n",
    "    return cats"
   ]
  },
  {
   "cell_type": "code",
   "execution_count": 17,
   "metadata": {},
   "outputs": [],
   "source": [
    "# Get unique values in each column with categorical values\n",
    "def vcount_summary(df, cat_list):\n",
    "    for i in cat_list:\n",
    "        print(f'Column: {i}')\n",
    "        print(f'Unique Values: {df[i].nunique()}')\n",
    "        print(df[i].value_counts())\n",
    "        print('-------------')"
   ]
  },
  {
   "cell_type": "markdown",
   "metadata": {},
   "source": [
    "### Import Team Datasets and Compile into One Set"
   ]
  },
  {
   "cell_type": "code",
   "execution_count": 18,
   "metadata": {},
   "outputs": [],
   "source": [
    "niners_df = pd.read_csv('Resources/indv_team_csvs/niners.csv')\n",
    "rams_df = pd.read_csv('Resources/indv_team_csvs/rams.csv')\n",
    "chargers_df = pd.read_csv('Resources/indv_team_csvs/chargers.csv')\n",
    "seahawks_df = pd.read_csv('Resources/indv_team_csvs/seahawks.csv')\n",
    "cardinals_df = pd.read_csv('Resources/indv_team_csvs/cardinals.csv')\n",
    "packers_df = pd.read_csv('Resources/indv_team_csvs/packers.csv')\n",
    "saints_df = pd.read_csv('Resources/indv_team_csvs/saints.csv')\n",
    "giants_df = pd.read_csv('Resources/indv_team_csvs/giants.csv')\n",
    "bears_df = pd.read_csv('Resources/indv_team_csvs/bears.csv')\n",
    "panthers_df = pd.read_csv('Resources/indv_team_csvs/panthers.csv')\n",
    "bucs_df = pd.read_csv('Resources/indv_team_csvs/bucs.csv')\n",
    "falcons_df = pd.read_csv('Resources/indv_team_csvs/falcons.csv')\n",
    "wash_df = pd.read_csv('Resources/indv_team_csvs/wash.csv')\n",
    "ravens_df = pd.read_csv('Resources/indv_team_csvs/ravens.csv')\n",
    "eagles_df = pd.read_csv('Resources/indv_team_csvs/eagles.csv')\n",
    "cowboys_df = pd.read_csv('Resources/indv_team_csvs/cowboys.csv')\n",
    "chiefs_df = pd.read_csv('Resources/indv_team_csvs/chiefs.csv')\n",
    "lions_df = pd.read_csv('Resources/indv_team_csvs/lions.csv')\n",
    "vikings_df = pd.read_csv('Resources/indv_team_csvs/vikings.csv')\n",
    "bengals_df = pd.read_csv('Resources/indv_team_csvs/bengals.csv')\n",
    "raiders_df = pd.read_csv('Resources/indv_team_csvs/raiders.csv')\n",
    "steelers_df = pd.read_csv('Resources/indv_team_csvs/steelers.csv')\n",
    "browns_df = pd.read_csv('Resources/indv_team_csvs/browns.csv')\n",
    "broncos_df = pd.read_csv('Resources/indv_team_csvs/broncos.csv')\n",
    "colts_df = pd.read_csv('Resources/indv_team_csvs/colts.csv')\n",
    "texans_df = pd.read_csv('Resources/indv_team_csvs/texans.csv')\n",
    "jets_df = pd.read_csv('Resources/indv_team_csvs/jets.csv')\n",
    "jaguars_df = pd.read_csv('Resources/indv_team_csvs/jaguars.csv')\n",
    "dolphins_df = pd.read_csv('Resources/indv_team_csvs/dolphins.csv')\n",
    "pats_df = pd.read_csv('Resources/indv_team_csvs/pats.csv')\n",
    "bills_df = pd.read_csv('Resources/indv_team_csvs/bills.csv')\n",
    "titans_df = pd.read_csv('Resources/indv_team_csvs/titans.csv')"
   ]
  },
  {
   "cell_type": "code",
   "execution_count": 19,
   "metadata": {},
   "outputs": [],
   "source": [
    "allteam_df = niners_df.append(rams_df, ignore_index=True)\n",
    "allteam_df = allteam_df.append(chargers_df, ignore_index=True)\n",
    "allteam_df = allteam_df.append(seahawks_df, ignore_index=True)\n",
    "allteam_df = allteam_df.append(cardinals_df, ignore_index=True)\n",
    "allteam_df = allteam_df.append(packers_df, ignore_index=True)\n",
    "allteam_df = allteam_df.append(saints_df, ignore_index=True)\n",
    "allteam_df = allteam_df.append(giants_df, ignore_index=True)\n",
    "allteam_df = allteam_df.append(bears_df, ignore_index=True)\n",
    "allteam_df = allteam_df.append(panthers_df, ignore_index=True)\n",
    "allteam_df = allteam_df.append(bucs_df, ignore_index=True)\n",
    "allteam_df = allteam_df.append(falcons_df, ignore_index=True)\n",
    "allteam_df = allteam_df.append(wash_df, ignore_index=True)\n",
    "allteam_df = allteam_df.append(ravens_df, ignore_index=True)\n",
    "allteam_df = allteam_df.append(eagles_df, ignore_index=True)\n",
    "allteam_df = allteam_df.append(cowboys_df, ignore_index=True)\n",
    "allteam_df = allteam_df.append(chiefs_df, ignore_index=True)\n",
    "allteam_df = allteam_df.append(lions_df, ignore_index=True)\n",
    "allteam_df = allteam_df.append(vikings_df, ignore_index=True)\n",
    "allteam_df = allteam_df.append(bengals_df, ignore_index=True)\n",
    "allteam_df = allteam_df.append(raiders_df, ignore_index=True)\n",
    "allteam_df = allteam_df.append(steelers_df, ignore_index=True)\n",
    "allteam_df = allteam_df.append(browns_df, ignore_index=True)\n",
    "allteam_df = allteam_df.append(broncos_df, ignore_index=True)\n",
    "allteam_df = allteam_df.append(colts_df, ignore_index=True)\n",
    "allteam_df = allteam_df.append(texans_df, ignore_index=True)\n",
    "allteam_df = allteam_df.append(jets_df, ignore_index=True)\n",
    "allteam_df = allteam_df.append(jaguars_df, ignore_index=True)\n",
    "allteam_df = allteam_df.append(dolphins_df, ignore_index=True)\n",
    "allteam_df = allteam_df.append(pats_df, ignore_index=True)\n",
    "allteam_df = allteam_df.append(bills_df, ignore_index=True)\n",
    "allteam_df = allteam_df.append(titans_df, ignore_index=True)"
   ]
  },
  {
   "cell_type": "markdown",
   "metadata": {},
   "source": [
    "### Clean the allteam dataset"
   ]
  },
  {
   "cell_type": "code",
   "execution_count": 20,
   "metadata": {},
   "outputs": [],
   "source": [
    "# Reduce team names to just the mascot, since some teams have changed cities and might be mistaken for two separate teams\n",
    "allteam_df['Opp'] = allteam_df['Opp'].replace(['Los Angeles Rams', 'St. Louis Rams'], 'Rams')\n",
    "allteam_df['Opp'] = allteam_df['Opp'].replace(['Los Angeles Chargers', 'San Diego Chargers'], 'Chargers')\n",
    "allteam_df['Opp'] = allteam_df['Opp'].replace('Seattle Seahawks', 'Seahawks')\n",
    "allteam_df['Opp'] = allteam_df['Opp'].replace('Arizona Cardinals', 'Cardinals')\n",
    "allteam_df['Opp'] = allteam_df['Opp'].replace('Green Bay Packers', 'Packers')\n",
    "allteam_df['Opp'] = allteam_df['Opp'].replace('New Orleans Saints', 'Saints')\n",
    "allteam_df['Opp'] = allteam_df['Opp'].replace('New York Giants', 'Giants')\n",
    "allteam_df['Opp'] = allteam_df['Opp'].replace('Chicago Bears', 'Bears')\n",
    "allteam_df['Opp'] = allteam_df['Opp'].replace('Carolina Panthers', 'Panthers')\n",
    "allteam_df['Opp'] = allteam_df['Opp'].replace('Tampa Bay Buccaneers', 'Buccaneers')\n",
    "allteam_df['Opp'] = allteam_df['Opp'].replace('Atlanta Falcons', 'Falcons')\n",
    "allteam_df['Opp'] = allteam_df['Opp'].replace(['Washington Redskins', 'Washington Football Team'], 'Washington')\n",
    "allteam_df['Opp'] = allteam_df['Opp'].replace('Baltimore Ravens', 'Ravens')\n",
    "allteam_df['Opp'] = allteam_df['Opp'].replace('Philadelphia Eagles', 'Eagles')\n",
    "allteam_df['Opp'] = allteam_df['Opp'].replace('Dallas Cowboys', 'Cowboys')\n",
    "allteam_df['Opp'] = allteam_df['Opp'].replace('Kansas City Chiefs', 'Chiefs')\n",
    "allteam_df['Opp'] = allteam_df['Opp'].replace('Detroit Lions', 'Lions')\n",
    "allteam_df['Opp'] = allteam_df['Opp'].replace('Minnesota Vikings', 'Vikings')\n",
    "allteam_df['Opp'] = allteam_df['Opp'].replace('Cincinnati Bengals', 'Bengals')\n",
    "allteam_df['Opp'] = allteam_df['Opp'].replace(['Oakland Raiders', 'Las Vegas Raiders'], 'Raiders')\n",
    "allteam_df['Opp'] = allteam_df['Opp'].replace('Pittsburgh Steelers', 'Steelers')\n",
    "allteam_df['Opp'] = allteam_df['Opp'].replace('Cleveland Browns', 'Browns')\n",
    "allteam_df['Opp'] = allteam_df['Opp'].replace('Denver Broncos', 'Broncos')\n",
    "allteam_df['Opp'] = allteam_df['Opp'].replace('Indianapolis Colts', 'Colts')\n",
    "allteam_df['Opp'] = allteam_df['Opp'].replace('Houston Texans', 'Texans')\n",
    "allteam_df['Opp'] = allteam_df['Opp'].replace('New York Jets', 'Jets')\n",
    "allteam_df['Opp'] = allteam_df['Opp'].replace('Jacksonville Jaguars', 'Jaguars')\n",
    "allteam_df['Opp'] = allteam_df['Opp'].replace('Miami Dolphins', 'Dolphins')\n",
    "allteam_df['Opp'] = allteam_df['Opp'].replace('New England Patriots', 'Patriots')\n",
    "allteam_df['Opp'] = allteam_df['Opp'].replace('Buffalo Bills', 'Bills')\n",
    "allteam_df['Opp'] = allteam_df['Opp'].replace('Tennessee Titans', 'Titans')\n",
    "allteam_df['Opp'] = allteam_df['Opp'].replace('San Francisco 49ers', '49ers')\n",
    "\n",
    "allteam_df['Base_Team'] = allteam_df['Base_Team'].replace(['Los Angeles Rams', 'St. Louis Rams'], 'Rams')\n",
    "allteam_df['Base_Team'] = allteam_df['Base_Team'].replace(['Los Angeles Chargers', 'San Diego Chargers'], 'Chargers')\n",
    "allteam_df['Base_Team'] = allteam_df['Base_Team'].replace('Seattle Seahawks', 'Seahawks')\n",
    "allteam_df['Base_Team'] = allteam_df['Base_Team'].replace('Arizona Cardinals', 'Cardinals')\n",
    "allteam_df['Base_Team'] = allteam_df['Base_Team'].replace('Green Bay Packers', 'Packers')\n",
    "allteam_df['Base_Team'] = allteam_df['Base_Team'].replace('New Orleans Saints', 'Saints')\n",
    "allteam_df['Base_Team'] = allteam_df['Base_Team'].replace('New York Giants', 'Giants')\n",
    "allteam_df['Base_Team'] = allteam_df['Base_Team'].replace('Chicago Bears', 'Bears')\n",
    "allteam_df['Base_Team'] = allteam_df['Base_Team'].replace('Carolina Panthers', 'Panthers')\n",
    "allteam_df['Base_Team'] = allteam_df['Base_Team'].replace('Tampa Bay Buccaneers', 'Buccaneers')\n",
    "allteam_df['Base_Team'] = allteam_df['Base_Team'].replace('Atlanta Falcons', 'Falcons')\n",
    "allteam_df['Base_Team'] = allteam_df['Base_Team'].replace('Washington Redskins', 'Washington')\n",
    "allteam_df['Base_Team'] = allteam_df['Base_Team'].replace('Baltimore Ravens', 'Ravens')\n",
    "allteam_df['Base_Team'] = allteam_df['Base_Team'].replace('Philadelphia Eagles', 'Eagles')\n",
    "allteam_df['Base_Team'] = allteam_df['Base_Team'].replace('Dallas Cowboys', 'Cowboys')\n",
    "allteam_df['Base_Team'] = allteam_df['Base_Team'].replace('Kansas City Chiefs', 'Chiefs')\n",
    "allteam_df['Base_Team'] = allteam_df['Base_Team'].replace('Detroit Lions', 'Lions')\n",
    "allteam_df['Base_Team'] = allteam_df['Base_Team'].replace('Minnesota Vikings', 'Vikings')\n",
    "allteam_df['Base_Team'] = allteam_df['Base_Team'].replace('Cincinnati Bengals', 'Bengals')\n",
    "allteam_df['Base_Team'] = allteam_df['Base_Team'].replace('Oakland Raiders', 'Raiders')\n",
    "allteam_df['Base_Team'] = allteam_df['Base_Team'].replace('Pittsburgh Steelers', 'Steelers')\n",
    "allteam_df['Base_Team'] = allteam_df['Base_Team'].replace('Cleveland Browns', 'Browns')\n",
    "allteam_df['Base_Team'] = allteam_df['Base_Team'].replace('Denver Broncos', 'Broncos')\n",
    "allteam_df['Base_Team'] = allteam_df['Base_Team'].replace('Indianapolis Colts', 'Colts')\n",
    "allteam_df['Base_Team'] = allteam_df['Base_Team'].replace('Houston Texans', 'Texans')\n",
    "allteam_df['Base_Team'] = allteam_df['Base_Team'].replace('New York Jets', 'Jets')\n",
    "allteam_df['Base_Team'] = allteam_df['Base_Team'].replace('Jacksonville Jaguars', 'Jaguars')\n",
    "allteam_df['Base_Team'] = allteam_df['Base_Team'].replace('Miami Dolphins', 'Dolphins')\n",
    "allteam_df['Base_Team'] = allteam_df['Base_Team'].replace('New England Patriots', 'Patriots')\n",
    "allteam_df['Base_Team'] = allteam_df['Base_Team'].replace('Buffalo Bills', 'Bills')\n",
    "allteam_df['Base_Team'] = allteam_df['Base_Team'].replace('Tennessee Titans', 'Titans')\n",
    "allteam_df['Base_Team'] = allteam_df['Base_Team'].replace('San Francisco 49ers', '49ers')"
   ]
  },
  {
   "cell_type": "code",
   "execution_count": 21,
   "metadata": {},
   "outputs": [],
   "source": [
    "# Clean up column names\n",
    "allteam_df = allteam_df.drop(columns='Unnamed: 0')\n",
    "\n",
    "allteam_df['Year'] = allteam_df['year']\n",
    "allteam_df['After_Bye'] = allteam_df['after_bye']\n",
    "allteam_df = allteam_df.drop(columns=['year','after_bye'])\n",
    "\n",
    "allteam_df = allteam_df[['Year', 'Week', \n",
    "            'Day', 'Base_Team', \n",
    "            'Opp', 'Home', \n",
    "            'After_Bye', 'Wins Tally', \n",
    "            'PF Tally', 'PA Tally', \n",
    "            'OPassY Tally', 'ORushY Tally',\n",
    "            'OTotYd Tally', 'TO_lost Tally', \n",
    "            'DPassY Tally', 'DRushY Tally', \n",
    "            'DTotYd Tally', 'TO_won Tally',\n",
    "            'Head_Coach', 'OC', 'DC', 'QB', \n",
    "            'Results']]"
   ]
  },
  {
   "cell_type": "code",
   "execution_count": 22,
   "metadata": {},
   "outputs": [],
   "source": [
    "# Drop any null rows that may have been missed in the process so far\n",
    "allteam_df = allteam_df[allteam_df['Week'].isnull() == False]"
   ]
  },
  {
   "cell_type": "code",
   "execution_count": 23,
   "metadata": {},
   "outputs": [],
   "source": [
    "# Save the cleaned, complete dataset to a csv\n",
    "allteam_df.to_csv('Resources/allteam_csvs/allteam_df.csv')"
   ]
  },
  {
   "cell_type": "code",
   "execution_count": 24,
   "metadata": {},
   "outputs": [],
   "source": [
    "# Drop weeks that haven't happened yet so they don't mess with the stats\n",
    "drop_index = allteam_df[(allteam_df['Year'] == 2020) & (allteam_df['Week'] >= 6)].index\n",
    "allteam_df.drop(drop_index, inplace=True)"
   ]
  },
  {
   "cell_type": "code",
   "execution_count": 25,
   "metadata": {},
   "outputs": [],
   "source": [
    "# Breakdown the complete set into weekly datasets\n",
    "week1 = allteam_df[allteam_df['Week'] == 1]\n",
    "week2 = allteam_df[allteam_df['Week'] == 2]\n",
    "week3 = allteam_df[allteam_df['Week'] == 3]\n",
    "week4 = allteam_df[allteam_df['Week'] == 4]\n",
    "week5 = allteam_df[allteam_df['Week'] == 5]\n",
    "week6 = allteam_df[allteam_df['Week'] == 6]\n",
    "week7 = allteam_df[allteam_df['Week'] == 7]\n",
    "week8 = allteam_df[allteam_df['Week'] == 8]\n",
    "week9 = allteam_df[allteam_df['Week'] == 9]\n",
    "week10 = allteam_df[allteam_df['Week'] == 10]\n",
    "week11 = allteam_df[allteam_df['Week'] == 11]\n",
    "week12 = allteam_df[allteam_df['Week'] == 12]\n",
    "week13 = allteam_df[allteam_df['Week'] == 13]\n",
    "week14 = allteam_df[allteam_df['Week'] == 14]\n",
    "week15 = allteam_df[allteam_df['Week'] == 15]\n",
    "week16 = allteam_df[allteam_df['Week'] == 16]\n",
    "week17 = allteam_df[allteam_df['Week'] == 17]"
   ]
  },
  {
   "cell_type": "code",
   "execution_count": 26,
   "metadata": {},
   "outputs": [],
   "source": [
    "# Save the weekly sets into individual csv files\n",
    "week1.to_csv('Resources/weekly_csvs/week1.csv')\n",
    "week2.to_csv('Resources/weekly_csvs/week2.csv')\n",
    "week3.to_csv('Resources/weekly_csvs/week3.csv')\n",
    "week4.to_csv('Resources/weekly_csvs/week4.csv')\n",
    "week5.to_csv('Resources/weekly_csvs/week5.csv')\n",
    "week6.to_csv('Resources/weekly_csvs/week6.csv')\n",
    "week7.to_csv('Resources/weekly_csvs/week7.csv')\n",
    "week8.to_csv('Resources/weekly_csvs/week8.csv')\n",
    "week9.to_csv('Resources/weekly_csvs/week9.csv')\n",
    "week10.to_csv('Resources/weekly_csvs/week10.csv')\n",
    "week11.to_csv('Resources/weekly_csvs/week11.csv')\n",
    "week12.to_csv('Resources/weekly_csvs/week12.csv')\n",
    "week13.to_csv('Resources/weekly_csvs/week13.csv')\n",
    "week14.to_csv('Resources/weekly_csvs/week14.csv')\n",
    "week15.to_csv('Resources/weekly_csvs/week15.csv')\n",
    "week16.to_csv('Resources/weekly_csvs/week16.csv')\n",
    "week17.to_csv('Resources/weekly_csvs/week17.csv')"
   ]
  },
  {
   "cell_type": "code",
   "execution_count": null,
   "metadata": {},
   "outputs": [],
   "source": []
  }
 ],
 "metadata": {
  "kernelspec": {
   "display_name": "PythonData",
   "language": "python",
   "name": "pythondata"
  },
  "language_info": {
   "codemirror_mode": {
    "name": "ipython",
    "version": 3
   },
   "file_extension": ".py",
   "mimetype": "text/x-python",
   "name": "python",
   "nbconvert_exporter": "python",
   "pygments_lexer": "ipython3",
   "version": "3.8.3"
  }
 },
 "nbformat": 4,
 "nbformat_minor": 4
}
