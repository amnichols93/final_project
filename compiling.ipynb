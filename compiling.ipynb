{
 "cells": [
  {
   "cell_type": "markdown",
   "metadata": {},
   "source": [
    "### Import Dependencies"
   ]
  },
  {
   "cell_type": "code",
   "execution_count": 1,
   "metadata": {},
   "outputs": [],
   "source": [
    "import pandas as pd\n",
    "import numpy as np\n",
    "import os\n",
    "import re\n",
    "import matplotlib as plt"
   ]
  },
  {
   "cell_type": "markdown",
   "metadata": {},
   "source": [
    "### Set Formulas"
   ]
  },
  {
   "cell_type": "code",
   "execution_count": 2,
   "metadata": {},
   "outputs": [],
   "source": [
    "def tallies(df):\n",
    "    df['PF'].fillna(0, inplace = True)\n",
    "    df['PA'].fillna(0, inplace = True)\n",
    "    df['OPassY'].fillna(0, inplace = True)\n",
    "    df['ORushY'].fillna(0, inplace = True)\n",
    "    df['TO_lost'].fillna(0, inplace = True)\n",
    "    df['DPassY'].fillna(0, inplace = True)\n",
    "    df['DRushY'].fillna(0, inplace = True)\n",
    "    df['TO_won'].fillna(0, inplace = True)\n",
    "    df['OTotYd'].fillna(0, inplace = True)\n",
    "    df['DTotYd'].fillna(0, inplace = True)\n",
    "\n",
    "    df['PF Tally'] = df['PF'].cumsum() - df['PF']\n",
    "    df['PA Tally'] = df['PA'].cumsum() - df['PA']\n",
    "    df['OPassY Tally'] = df['OPassY'].cumsum() - df['OPassY']\n",
    "    df['ORushY Tally'] = df['ORushY'].cumsum() - df['ORushY']\n",
    "    df['TO_lost Tally'] = df['TO_lost'].cumsum() - df['TO_lost']\n",
    "    df['TO_won Tally'] = df['TO_won'].cumsum() - df['TO_won']\n",
    "    df['DPassY Tally'] = df['DPassY'].cumsum() - df['DPassY']\n",
    "    df['DRushY Tally'] = df['DRushY'].cumsum() - df['DRushY']\n",
    "    df['OTotYd Tally'] = df['OTotYd'].cumsum() - df['OTotYd']\n",
    "    df['DTotYd Tally'] = df['DTotYd'].cumsum() - df['DTotYd']\n",
    "\n",
    "    df = df.drop(columns=['PF', 'PA', 'OPassY', 'ORushY', 'TO_lost', 'TO_won', 'DPassY', 'DRushY', 'OTotYd', 'DTotYd'])\n",
    "    \n",
    "    return df"
   ]
  },
  {
   "cell_type": "code",
   "execution_count": 6,
   "metadata": {},
   "outputs": [],
   "source": [
    "def clean_columns(df, home_team=''):\n",
    "    # Delete 'Bye' weeks and change column name\n",
    "    df = df[df['Opp'] != 'Bye Week']\n",
    "    df = df.rename(columns={\"Entering Wins\": \"Wins Tally\"})\n",
    "\n",
    "    # Clean 'Home' column so home games have a value of 1 and away games have a value of 0\n",
    "    df['Home'] = df['Home'].replace(['@', 'N'], 0)\n",
    "    df['Home'].fillna(1, inplace = True)\n",
    "\n",
    "    # Clean 'Results' column so wins have a value of 1 and losses/ties have a value of 0\n",
    "    df['Results'] = df['Results'].replace(['L', 'T'], 0)\n",
    "    df['Results'] = df['Results'].replace('W', 1)\n",
    "\n",
    "    # Drop and add columns as needed\n",
    "    df = df.drop(columns=['Rec', 'Date'])\n",
    "    df['Home_Team'] = home_team\n",
    "    \n",
    "    return df"
   ]
  },
  {
   "cell_type": "code",
   "execution_count": 7,
   "metadata": {},
   "outputs": [],
   "source": [
    "def win_rate_by_record(team_df, team, wins, week):\n",
    "    df = team_df[team_df['Home_Team'] == team]\n",
    "    df = df[df['Entering Wins'] >= wins]\n",
    "    df = df[df['Week'] == week]\n",
    "    wins_df = df[df['Results'] == 1]\n",
    "    if len(df) == 0:\n",
    "        return f'No data.'\n",
    "    else:\n",
    "        win_pt = float(\"{:.2f}\".format(len(wins_df) / len(df) * 100))\n",
    "        return win_pt"
   ]
  },
  {
   "cell_type": "code",
   "execution_count": 8,
   "metadata": {},
   "outputs": [],
   "source": [
    "def win_rate_by_pf(team_df, team, pf):\n",
    "    df = team_df[team_df['Home_Team'] == team]\n",
    "    df = df[df['PF'] >= pf]\n",
    "    wins_df = df[df['Results'] == 1]\n",
    "    if len(df) == 0:\n",
    "        return f'No data.'\n",
    "    else:\n",
    "        win_pt = float(\"{:.2f}\".format(len(wins_df) / len(df) * 100))\n",
    "        return win_pt"
   ]
  },
  {
   "cell_type": "code",
   "execution_count": 9,
   "metadata": {},
   "outputs": [],
   "source": [
    "def win_rate_by_pa(team_df, team, pa):\n",
    "    df = team_df[team_df['Home_Team'] == team]\n",
    "    df = df[df['PA'] >= pa]\n",
    "    wins_df = df[df['Results'] == 1]\n",
    "    if len(df) == 0:\n",
    "        return f'No data.'\n",
    "    else:\n",
    "        win_pt = float(\"{:.2f}\".format(len(wins_df) / len(df) * 100))\n",
    "        return win_pt"
   ]
  },
  {
   "cell_type": "code",
   "execution_count": 10,
   "metadata": {},
   "outputs": [],
   "source": [
    "def win_rate_by_opp(team_df, team, opp):\n",
    "    df = team_df[team_df['Home_Team'] == team]\n",
    "    df = df[df['Opp'] == opp]\n",
    "    wins_df = df[df['Results'] == 1]\n",
    "    if len(df) == 0:\n",
    "        return f'No data.'\n",
    "    else:\n",
    "        win_pt = float(\"{:.2f}\".format(len(wins_df) / len(df) * 100))\n",
    "        return win_pt"
   ]
  },
  {
   "cell_type": "code",
   "execution_count": 11,
   "metadata": {},
   "outputs": [],
   "source": [
    "def avg_pf_by_team(team_df, team, opp):\n",
    "    df = team_df[team_df['Home_Team'] == team]\n",
    "    df = df[df['Opp'] == opp]\n",
    "    pf_avg = df['PF'].mean()\n",
    "    pf_avg_rounddown = pf_avg - (pf_avg % 1)\n",
    "    return pf_avg_rounddown"
   ]
  },
  {
   "cell_type": "code",
   "execution_count": 12,
   "metadata": {},
   "outputs": [],
   "source": [
    "def avg_pa_by_team(team_df, team, opp):\n",
    "    df = team_df[team_df['Home_Team'] == team]\n",
    "    df = df[df['Opp'] == opp]\n",
    "    pa_avg = df['PA'].mean()\n",
    "    pa_avg_roundup = pa_avg + (1 - (pa_avg % 1))\n",
    "    return pa_avg_roundup"
   ]
  },
  {
   "cell_type": "code",
   "execution_count": 13,
   "metadata": {},
   "outputs": [],
   "source": [
    "def total_avg(team_df, team, wins, week, opp, pa, pf):\n",
    "        \n",
    "    df = team_df[team_df['Home_Team'] == team]\n",
    "    percentage_sum = 0\n",
    "    count = 0\n",
    "\n",
    "    # win_rate_by_ record\n",
    "    df = team_df[team_df['Home_Team'] == team]\n",
    "    df = df[df['Entering Wins'] >= wins]\n",
    "    df = df[df['Week'] == week]\n",
    "    wins_df = df[df['Results'] == 1]\n",
    "    if len(df) == 0:\n",
    "        pass\n",
    "    else:\n",
    "        win_pt1 = float(\"{:.2f}\".format(len(wins_df) / len(df) * 100))\n",
    "        percentage_sum = percentage_sum + win_pt1\n",
    "        count = count + 1\n",
    "\n",
    "    # win_rate_by_ opp\n",
    "    df = team_df[team_df['Home_Team'] == team]\n",
    "    df = df[df['Opp'] == opp]\n",
    "    wins_df = df[df['Results'] == 1]\n",
    "    if len(df) == 0:\n",
    "        pass\n",
    "    else:\n",
    "        win_pt2 = float(\"{:.2f}\".format(len(wins_df) / len(df) * 100))\n",
    "        percentage_sum = percentage_sum + win_pt2\n",
    "        count = count + 1\n",
    "\n",
    "    # win_rate_by_ avg pf\n",
    "    df = team_df[team_df['Home_Team'] == team]\n",
    "    df = df[df['PF'] >= pf]\n",
    "    wins_df = df[df['Results'] == 1]\n",
    "    if len(df) == 0:\n",
    "        pass\n",
    "    else:\n",
    "        win_pt5 = win_rate_by_pf(team_df=team_df, team=team, pf=avg_pf_by_team(team_df=team_df, team=team, opp=opp))\n",
    "        percentage_sum = percentage_sum + win_pt5\n",
    "        count = count + 1\n",
    "\n",
    "    # win_rate_by_ avg pa\n",
    "    df = team_df[team_df['Home_Team'] == team]\n",
    "    df = df[df['PA'] >= pa]\n",
    "    wins_df = df[df['Results'] == 1]\n",
    "    if len(df) == 0:\n",
    "        pass\n",
    "    else:\n",
    "        win_pt6 = win_rate_by_pa(team_df=team_df, team=team, pa=avg_pa_by_team(team_df=team_df, team=team, opp=opp))\n",
    "        percentage_sum = percentage_sum + win_pt6\n",
    "        count = count + 1\n",
    "\n",
    "    total_avg = float(\"{:.2f}\".format(percentage_sum/count))\n",
    "    return total_avg"
   ]
  },
  {
   "cell_type": "code",
   "execution_count": 14,
   "metadata": {},
   "outputs": [],
   "source": [
    "def odds_summary(team_df, team, opp, week, wins=0, pf=0, pa=0):    \n",
    "    print(f'Avg Win Rating - Overall: {total_avg(team_df=team_df, team=team, wins=wins, week=week, opp=opp, pa=pa, pf=pf)}%')\n",
    "    print(f'-----')\n",
    "    print(f'Against {opp}, Win Rate: {win_rate_by_opp(team_df=team_df, team=team, opp=opp)}%')\n",
    "    print(f'Week {week}- Wins by: {wins}, Win Rate: {win_rate_by_record(team_df=team_df, team=team, wins=wins, week=week)}%')\n",
    "    print(f'Avg PF: {avg_pf_by_team(team_df=team_df, team=team, opp=opp)}, Win Rate: {win_rate_by_pf(team_df=team_df, team=team, pf=avg_pf_by_team(team_df=team_df, team=team, opp=opp))}%')\n",
    "    print(f'Avg PA: {avg_pa_by_team(team_df=team_df, team=team, opp=opp)}, Win Rate: {win_rate_by_pa(team_df=team_df, team=team, pa=avg_pa_by_team(team_df=team_df, team=team, opp=opp))}%')"
   ]
  },
  {
   "cell_type": "code",
   "execution_count": 15,
   "metadata": {},
   "outputs": [],
   "source": [
    "# Generate our categorical variable list\n",
    "def cat_columns(df):\n",
    "    cats = df.dtypes[df.dtypes == \"object\"].index.tolist()\n",
    "    return cats"
   ]
  },
  {
   "cell_type": "code",
   "execution_count": 16,
   "metadata": {},
   "outputs": [],
   "source": [
    "# Get unique values in each column with categorical values\n",
    "def vcount_summary(df, cat_list):\n",
    "    for i in cat_list:\n",
    "        print(f'Column: {i}')\n",
    "        print(f'Unique Values: {df[i].nunique()}')\n",
    "        print(df[i].value_counts())\n",
    "        print('-------------')"
   ]
  },
  {
   "cell_type": "code",
   "execution_count": 17,
   "metadata": {},
   "outputs": [],
   "source": [
    "# Make function to bucket low values into 'other' type\n",
    "def other_bucket(df, column, cutoff):\n",
    "    counts = df[column].value_counts()\n",
    "    replacements = list(counts[counts < cutoff].index)\n",
    "    \n",
    "    for i in replacements:\n",
    "        df[column] = df[column].replace(i, 'Other')"
   ]
  },
  {
   "cell_type": "code",
   "execution_count": 18,
   "metadata": {},
   "outputs": [],
   "source": [
    "# Encode categorical columns and merge with primary dataframe\n",
    "def encode_merge(df, cat_list):\n",
    "    for i in cat_list:\n",
    "        encode_df = pd.DataFrame(enc.fit_transform(df[i].values.reshape(-1,1)))\n",
    "        encode_df.columns = enc.get_feature_names([i])\n",
    "        df = df.merge(encode_df,left_index=True,right_index=True).drop(i,1)\n",
    "    return df"
   ]
  },
  {
   "cell_type": "code",
   "execution_count": 24,
   "metadata": {},
   "outputs": [],
   "source": [
    "def yearly_data(df, year, HC2_range=0, QB2_range=0, HC='', HC2='none', OC='', DC='', QB='', QB2='none'):\n",
    "    df['year'] = year\n",
    "    df = tallies(df)\n",
    "    df['Head_Coach'] = HC\n",
    "    if HC2 == 'none':\n",
    "        pass\n",
    "    else:\n",
    "        df.loc[df['Week'] == HC2_range, 'Head_Coach'] = HC2\n",
    "    df['OC'] = OC\n",
    "    df['DC'] = DC\n",
    "    df['QB'] = QB\n",
    "    if QB2 == 'none':\n",
    "        pass\n",
    "    else:\n",
    "        df.loc[df['Week'] == QB2_range, 'Head_Coach'] = QB2\n",
    "        \n",
    "    return df"
   ]
  },
  {
   "cell_type": "markdown",
   "metadata": {},
   "source": [
    "### San Francisco 49ers Data, 2010-2019"
   ]
  },
  {
   "cell_type": "code",
   "execution_count": 25,
   "metadata": {},
   "outputs": [
    {
     "data": {
      "text/html": [
       "<div>\n",
       "<style scoped>\n",
       "    .dataframe tbody tr th:only-of-type {\n",
       "        vertical-align: middle;\n",
       "    }\n",
       "\n",
       "    .dataframe tbody tr th {\n",
       "        vertical-align: top;\n",
       "    }\n",
       "\n",
       "    .dataframe thead th {\n",
       "        text-align: right;\n",
       "    }\n",
       "</style>\n",
       "<table border=\"1\" class=\"dataframe\">\n",
       "  <thead>\n",
       "    <tr style=\"text-align: right;\">\n",
       "      <th></th>\n",
       "      <th>Week</th>\n",
       "      <th>Day</th>\n",
       "      <th>Results</th>\n",
       "      <th>Wins Tally</th>\n",
       "      <th>Home</th>\n",
       "      <th>Opp</th>\n",
       "      <th>week_after_bye</th>\n",
       "      <th>year</th>\n",
       "      <th>PF Tally</th>\n",
       "      <th>PA Tally</th>\n",
       "      <th>...</th>\n",
       "      <th>TO_won Tally</th>\n",
       "      <th>DPassY Tally</th>\n",
       "      <th>DRushY Tally</th>\n",
       "      <th>OTotYd Tally</th>\n",
       "      <th>DTotYd Tally</th>\n",
       "      <th>Head_Coach</th>\n",
       "      <th>OC</th>\n",
       "      <th>DC</th>\n",
       "      <th>QB</th>\n",
       "      <th>Home_Team</th>\n",
       "    </tr>\n",
       "  </thead>\n",
       "  <tbody>\n",
       "    <tr>\n",
       "      <th>0</th>\n",
       "      <td>1.0</td>\n",
       "      <td>Sun</td>\n",
       "      <td>1.0</td>\n",
       "      <td>0.0</td>\n",
       "      <td>0.0</td>\n",
       "      <td>Tampa Bay Buccaneers</td>\n",
       "      <td>0.0</td>\n",
       "      <td>2019</td>\n",
       "      <td>0.0</td>\n",
       "      <td>0.0</td>\n",
       "      <td>...</td>\n",
       "      <td>0.0</td>\n",
       "      <td>0.0</td>\n",
       "      <td>0.0</td>\n",
       "      <td>0.0</td>\n",
       "      <td>0.0</td>\n",
       "      <td>Kyle Shanahan</td>\n",
       "      <td>Kyle Shanahan</td>\n",
       "      <td>Robert Saleh</td>\n",
       "      <td>Jimmy Garoppolo</td>\n",
       "      <td>49ers</td>\n",
       "    </tr>\n",
       "    <tr>\n",
       "      <th>1</th>\n",
       "      <td>2.0</td>\n",
       "      <td>Sun</td>\n",
       "      <td>1.0</td>\n",
       "      <td>1.0</td>\n",
       "      <td>0.0</td>\n",
       "      <td>Cincinnati Bengals</td>\n",
       "      <td>0.0</td>\n",
       "      <td>2019</td>\n",
       "      <td>31.0</td>\n",
       "      <td>17.0</td>\n",
       "      <td>...</td>\n",
       "      <td>4.0</td>\n",
       "      <td>174.0</td>\n",
       "      <td>121.0</td>\n",
       "      <td>256.0</td>\n",
       "      <td>295.0</td>\n",
       "      <td>Kyle Shanahan</td>\n",
       "      <td>Kyle Shanahan</td>\n",
       "      <td>Robert Saleh</td>\n",
       "      <td>Jimmy Garoppolo</td>\n",
       "      <td>49ers</td>\n",
       "    </tr>\n",
       "    <tr>\n",
       "      <th>2</th>\n",
       "      <td>3.0</td>\n",
       "      <td>Sun</td>\n",
       "      <td>1.0</td>\n",
       "      <td>2.0</td>\n",
       "      <td>1.0</td>\n",
       "      <td>Pittsburgh Steelers</td>\n",
       "      <td>0.0</td>\n",
       "      <td>2019</td>\n",
       "      <td>72.0</td>\n",
       "      <td>34.0</td>\n",
       "      <td>...</td>\n",
       "      <td>5.0</td>\n",
       "      <td>465.0</td>\n",
       "      <td>146.0</td>\n",
       "      <td>827.0</td>\n",
       "      <td>611.0</td>\n",
       "      <td>Kyle Shanahan</td>\n",
       "      <td>Kyle Shanahan</td>\n",
       "      <td>Robert Saleh</td>\n",
       "      <td>Jimmy Garoppolo</td>\n",
       "      <td>49ers</td>\n",
       "    </tr>\n",
       "    <tr>\n",
       "      <th>4</th>\n",
       "      <td>5.0</td>\n",
       "      <td>Mon</td>\n",
       "      <td>1.0</td>\n",
       "      <td>3.0</td>\n",
       "      <td>1.0</td>\n",
       "      <td>Cleveland Browns</td>\n",
       "      <td>1.0</td>\n",
       "      <td>2019</td>\n",
       "      <td>96.0</td>\n",
       "      <td>54.0</td>\n",
       "      <td>...</td>\n",
       "      <td>7.0</td>\n",
       "      <td>625.0</td>\n",
       "      <td>225.0</td>\n",
       "      <td>1263.0</td>\n",
       "      <td>850.0</td>\n",
       "      <td>Kyle Shanahan</td>\n",
       "      <td>Kyle Shanahan</td>\n",
       "      <td>Robert Saleh</td>\n",
       "      <td>Jimmy Garoppolo</td>\n",
       "      <td>49ers</td>\n",
       "    </tr>\n",
       "    <tr>\n",
       "      <th>5</th>\n",
       "      <td>6.0</td>\n",
       "      <td>Sun</td>\n",
       "      <td>1.0</td>\n",
       "      <td>4.0</td>\n",
       "      <td>0.0</td>\n",
       "      <td>Los Angeles Rams</td>\n",
       "      <td>0.0</td>\n",
       "      <td>2019</td>\n",
       "      <td>127.0</td>\n",
       "      <td>57.0</td>\n",
       "      <td>...</td>\n",
       "      <td>11.0</td>\n",
       "      <td>703.0</td>\n",
       "      <td>327.0</td>\n",
       "      <td>1709.0</td>\n",
       "      <td>1030.0</td>\n",
       "      <td>Kyle Shanahan</td>\n",
       "      <td>Kyle Shanahan</td>\n",
       "      <td>Robert Saleh</td>\n",
       "      <td>Jimmy Garoppolo</td>\n",
       "      <td>49ers</td>\n",
       "    </tr>\n",
       "    <tr>\n",
       "      <th>...</th>\n",
       "      <td>...</td>\n",
       "      <td>...</td>\n",
       "      <td>...</td>\n",
       "      <td>...</td>\n",
       "      <td>...</td>\n",
       "      <td>...</td>\n",
       "      <td>...</td>\n",
       "      <td>...</td>\n",
       "      <td>...</td>\n",
       "      <td>...</td>\n",
       "      <td>...</td>\n",
       "      <td>...</td>\n",
       "      <td>...</td>\n",
       "      <td>...</td>\n",
       "      <td>...</td>\n",
       "      <td>...</td>\n",
       "      <td>...</td>\n",
       "      <td>...</td>\n",
       "      <td>...</td>\n",
       "      <td>...</td>\n",
       "      <td>...</td>\n",
       "    </tr>\n",
       "    <tr>\n",
       "      <th>178</th>\n",
       "      <td>13.0</td>\n",
       "      <td>Sun</td>\n",
       "      <td>0.0</td>\n",
       "      <td>4.0</td>\n",
       "      <td>0.0</td>\n",
       "      <td>Green Bay Packers</td>\n",
       "      <td>0.0</td>\n",
       "      <td>2010</td>\n",
       "      <td>187.0</td>\n",
       "      <td>225.0</td>\n",
       "      <td>...</td>\n",
       "      <td>14.0</td>\n",
       "      <td>2404.0</td>\n",
       "      <td>1081.0</td>\n",
       "      <td>3523.0</td>\n",
       "      <td>3485.0</td>\n",
       "      <td>Mike Singletary</td>\n",
       "      <td>Jimmy Raye</td>\n",
       "      <td>Greg Manusky</td>\n",
       "      <td>Alex Smith</td>\n",
       "      <td>49ers</td>\n",
       "    </tr>\n",
       "    <tr>\n",
       "      <th>179</th>\n",
       "      <td>14.0</td>\n",
       "      <td>Sun</td>\n",
       "      <td>1.0</td>\n",
       "      <td>4.0</td>\n",
       "      <td>1.0</td>\n",
       "      <td>Seattle Seahawks</td>\n",
       "      <td>0.0</td>\n",
       "      <td>2010</td>\n",
       "      <td>203.0</td>\n",
       "      <td>259.0</td>\n",
       "      <td>...</td>\n",
       "      <td>14.0</td>\n",
       "      <td>2678.0</td>\n",
       "      <td>1217.0</td>\n",
       "      <td>3792.0</td>\n",
       "      <td>3895.0</td>\n",
       "      <td>Mike Singletary</td>\n",
       "      <td>Jimmy Raye</td>\n",
       "      <td>Greg Manusky</td>\n",
       "      <td>Alex Smith</td>\n",
       "      <td>49ers</td>\n",
       "    </tr>\n",
       "    <tr>\n",
       "      <th>180</th>\n",
       "      <td>15.0</td>\n",
       "      <td>Thu</td>\n",
       "      <td>0.0</td>\n",
       "      <td>5.0</td>\n",
       "      <td>0.0</td>\n",
       "      <td>San Diego Chargers</td>\n",
       "      <td>0.0</td>\n",
       "      <td>2010</td>\n",
       "      <td>243.0</td>\n",
       "      <td>280.0</td>\n",
       "      <td>...</td>\n",
       "      <td>19.0</td>\n",
       "      <td>2955.0</td>\n",
       "      <td>1301.0</td>\n",
       "      <td>4128.0</td>\n",
       "      <td>4256.0</td>\n",
       "      <td>Mike Singletary</td>\n",
       "      <td>Jimmy Raye</td>\n",
       "      <td>Greg Manusky</td>\n",
       "      <td>Alex Smith</td>\n",
       "      <td>49ers</td>\n",
       "    </tr>\n",
       "    <tr>\n",
       "      <th>181</th>\n",
       "      <td>16.0</td>\n",
       "      <td>Sun</td>\n",
       "      <td>0.0</td>\n",
       "      <td>5.0</td>\n",
       "      <td>0.0</td>\n",
       "      <td>St. Louis Rams</td>\n",
       "      <td>0.0</td>\n",
       "      <td>2010</td>\n",
       "      <td>250.0</td>\n",
       "      <td>314.0</td>\n",
       "      <td>...</td>\n",
       "      <td>19.0</td>\n",
       "      <td>3221.0</td>\n",
       "      <td>1409.0</td>\n",
       "      <td>4320.0</td>\n",
       "      <td>4630.0</td>\n",
       "      <td>Mike Singletary</td>\n",
       "      <td>Jimmy Raye</td>\n",
       "      <td>Greg Manusky</td>\n",
       "      <td>Alex Smith</td>\n",
       "      <td>49ers</td>\n",
       "    </tr>\n",
       "    <tr>\n",
       "      <th>182</th>\n",
       "      <td>17.0</td>\n",
       "      <td>Sun</td>\n",
       "      <td>1.0</td>\n",
       "      <td>5.0</td>\n",
       "      <td>1.0</td>\n",
       "      <td>Arizona Cardinals</td>\n",
       "      <td>0.0</td>\n",
       "      <td>2010</td>\n",
       "      <td>267.0</td>\n",
       "      <td>339.0</td>\n",
       "      <td>...</td>\n",
       "      <td>20.0</td>\n",
       "      <td>3496.0</td>\n",
       "      <td>1469.0</td>\n",
       "      <td>4651.0</td>\n",
       "      <td>4965.0</td>\n",
       "      <td>Jim Tomsula</td>\n",
       "      <td>Jimmy Raye</td>\n",
       "      <td>Greg Manusky</td>\n",
       "      <td>Alex Smith</td>\n",
       "      <td>49ers</td>\n",
       "    </tr>\n",
       "  </tbody>\n",
       "</table>\n",
       "<p>173 rows × 23 columns</p>\n",
       "</div>"
      ],
      "text/plain": [
       "     Week  Day  Results  Wins Tally  Home                   Opp  \\\n",
       "0     1.0  Sun      1.0         0.0   0.0  Tampa Bay Buccaneers   \n",
       "1     2.0  Sun      1.0         1.0   0.0    Cincinnati Bengals   \n",
       "2     3.0  Sun      1.0         2.0   1.0   Pittsburgh Steelers   \n",
       "4     5.0  Mon      1.0         3.0   1.0      Cleveland Browns   \n",
       "5     6.0  Sun      1.0         4.0   0.0      Los Angeles Rams   \n",
       "..    ...  ...      ...         ...   ...                   ...   \n",
       "178  13.0  Sun      0.0         4.0   0.0     Green Bay Packers   \n",
       "179  14.0  Sun      1.0         4.0   1.0      Seattle Seahawks   \n",
       "180  15.0  Thu      0.0         5.0   0.0    San Diego Chargers   \n",
       "181  16.0  Sun      0.0         5.0   0.0        St. Louis Rams   \n",
       "182  17.0  Sun      1.0         5.0   1.0     Arizona Cardinals   \n",
       "\n",
       "     week_after_bye  year  PF Tally  PA Tally  ...  TO_won Tally  \\\n",
       "0               0.0  2019       0.0       0.0  ...           0.0   \n",
       "1               0.0  2019      31.0      17.0  ...           4.0   \n",
       "2               0.0  2019      72.0      34.0  ...           5.0   \n",
       "4               1.0  2019      96.0      54.0  ...           7.0   \n",
       "5               0.0  2019     127.0      57.0  ...          11.0   \n",
       "..              ...   ...       ...       ...  ...           ...   \n",
       "178             0.0  2010     187.0     225.0  ...          14.0   \n",
       "179             0.0  2010     203.0     259.0  ...          14.0   \n",
       "180             0.0  2010     243.0     280.0  ...          19.0   \n",
       "181             0.0  2010     250.0     314.0  ...          19.0   \n",
       "182             0.0  2010     267.0     339.0  ...          20.0   \n",
       "\n",
       "     DPassY Tally  DRushY Tally  OTotYd Tally  DTotYd Tally       Head_Coach  \\\n",
       "0             0.0           0.0           0.0           0.0    Kyle Shanahan   \n",
       "1           174.0         121.0         256.0         295.0    Kyle Shanahan   \n",
       "2           465.0         146.0         827.0         611.0    Kyle Shanahan   \n",
       "4           625.0         225.0        1263.0         850.0    Kyle Shanahan   \n",
       "5           703.0         327.0        1709.0        1030.0    Kyle Shanahan   \n",
       "..            ...           ...           ...           ...              ...   \n",
       "178        2404.0        1081.0        3523.0        3485.0  Mike Singletary   \n",
       "179        2678.0        1217.0        3792.0        3895.0  Mike Singletary   \n",
       "180        2955.0        1301.0        4128.0        4256.0  Mike Singletary   \n",
       "181        3221.0        1409.0        4320.0        4630.0  Mike Singletary   \n",
       "182        3496.0        1469.0        4651.0        4965.0      Jim Tomsula   \n",
       "\n",
       "                OC            DC               QB Home_Team  \n",
       "0    Kyle Shanahan  Robert Saleh  Jimmy Garoppolo     49ers  \n",
       "1    Kyle Shanahan  Robert Saleh  Jimmy Garoppolo     49ers  \n",
       "2    Kyle Shanahan  Robert Saleh  Jimmy Garoppolo     49ers  \n",
       "4    Kyle Shanahan  Robert Saleh  Jimmy Garoppolo     49ers  \n",
       "5    Kyle Shanahan  Robert Saleh  Jimmy Garoppolo     49ers  \n",
       "..             ...           ...              ...       ...  \n",
       "178     Jimmy Raye  Greg Manusky       Alex Smith     49ers  \n",
       "179     Jimmy Raye  Greg Manusky       Alex Smith     49ers  \n",
       "180     Jimmy Raye  Greg Manusky       Alex Smith     49ers  \n",
       "181     Jimmy Raye  Greg Manusky       Alex Smith     49ers  \n",
       "182     Jimmy Raye  Greg Manusky       Alex Smith     49ers  \n",
       "\n",
       "[173 rows x 23 columns]"
      ]
     },
     "execution_count": 25,
     "metadata": {},
     "output_type": "execute_result"
    }
   ],
   "source": [
    "sf_df2010 = pd.read_csv('Resources/sf_sportsref_download2010.csv')\n",
    "sf_df2011 = pd.read_csv('Resources/sf_sportsref_download2011.csv')\n",
    "sf_df2012 = pd.read_csv('Resources/sf_sportsref_download2012.csv')\n",
    "sf_df2013 = pd.read_csv('Resources/sf_sportsref_download2013.csv')\n",
    "sf_df2014 = pd.read_csv('Resources/sf_sportsref_download2014.csv')\n",
    "sf_df2015 = pd.read_csv('Resources/sf_sportsref_download2015.csv')\n",
    "sf_df2016 = pd.read_csv('Resources/sf_sportsref_download2016.csv')\n",
    "sf_df2017 = pd.read_csv('Resources/sf_sportsref_download2017.csv')\n",
    "sf_df2018 = pd.read_csv('Resources/sf_sportsref_download2018.csv')\n",
    "sf_df2019 = pd.read_csv('Resources/sf_sportsref_download2019.csv')\n",
    "\n",
    "sf_df2010 = yearly_data(df=sf_df2010, year=2010, \n",
    "                        HC='Mike Singletary', HC2_range=17, HC2='Jim Tomsula', \n",
    "                        OC='Jimmy Raye', \n",
    "                        DC='Greg Manusky', \n",
    "                        QB='Alex Smith', \n",
    "                        QB2='David Carr', QB2_range=7)\n",
    "sf_df2010.loc[sf_df2010['QB'] == range(8,13,1), 'QB'] = \"Troy Smith\"\n",
    "\n",
    "sf_df2011 = yearly_data(df=sf_df2011, year=2011, \n",
    "                        HC='Jim Harbaugh', \n",
    "                        OC='Greg Roman', \n",
    "                        DC='Vic Fangio', \n",
    "                        QB='Alex Smith')\n",
    "sf_df2012 = yearly_data(df=sf_df2012, year=2012, \n",
    "                        HC='Jim Harbaugh', \n",
    "                        OC='Greg Roman', \n",
    "                        DC='Vic Fangio',\n",
    "                        QB='Alex Smith', \n",
    "                        QB2='Colin Kaepernick', QB2_range=range(10,18,1))\n",
    "sf_df2013 = yearly_data(df=sf_df2013, year=2013, \n",
    "                        HC='Jim Harbaugh', \n",
    "                        OC='Greg Roman', \n",
    "                        DC='Vic Fangio', \n",
    "                        QB='Colin Kaepernick')\n",
    "sf_df2014 = yearly_data(df=sf_df2014, year=2014, \n",
    "                        HC='Jim Harbaugh', \n",
    "                        OC='Greg Roman', \n",
    "                        DC='Vic Fangio', \n",
    "                        QB='Colin Kaepernick')\n",
    "sf_df2015 = yearly_data(df=sf_df2015, year=2015, \n",
    "                        HC='Jim Tomsula', \n",
    "                        OC='Geep Chryst', \n",
    "                        DC='Eric Mangini', \n",
    "                        QB='Colin Kaepernick',\n",
    "                        QB2='Blaine Gabbert', QB2_range=range(10,18,1))\n",
    "sf_df2016 = yearly_data(df=sf_df2016, year=2016, \n",
    "                        HC='Chip Kelly', \n",
    "                        OC='Curtis Modkins', \n",
    "                        DC=\"Jim O'Neil\", \n",
    "                        QB='Blaine Gabbert',\n",
    "                        QB2='Colin Kaepernick', QB2_range=(6,18,1))\n",
    "sf_df2017 = yearly_data(df=sf_df2017, year=2017, \n",
    "                        HC='Kyle Shanahan', \n",
    "                        OC='Kyle Shanahan', \n",
    "                        DC='Robert Saleh', \n",
    "                        QB='Brian Hoyer',\n",
    "                        QB2='C.J. Beathard', QB2_range=range(7,13,1))\n",
    "sf_df2017.loc[sf_df2017['QB'] == range(12,18,1), 'QB'] = \"Jimmy Garoppolo\"\n",
    "\n",
    "sf_df2018 = yearly_data(df=sf_df2018, year=2018, \n",
    "                        HC='Kyle Shanahan', \n",
    "                        OC='Kyle Shanahan', \n",
    "                        DC='Robert Saleh', \n",
    "                        QB='Jimmy Garoppolo',\n",
    "                        QB2='C.J. Beathard', QB2_range=range(3,9,1))\n",
    "sf_df2018.loc[sf_df2018['QB'] == range(8,18,1), 'QB'] = \"Nick Mullens\"\n",
    "\n",
    "sf_df2019 = yearly_data(df=sf_df2019, year=2019, \n",
    "                        HC='Kyle Shanahan', \n",
    "                        OC='Kyle Shanahan', \n",
    "                        DC='Robert Saleh', \n",
    "                        QB='Jimmy Garoppolo')\n",
    "\n",
    "sf_df = sf_df2019.append(sf_df2018, ignore_index=True)\n",
    "sf_df = sf_df.append(sf_df2017, ignore_index=True)\n",
    "sf_df = sf_df.append(sf_df2016, ignore_index=True)\n",
    "sf_df = sf_df.append(sf_df2015, ignore_index=True)\n",
    "sf_df = sf_df.append(sf_df2014, ignore_index=True)\n",
    "sf_df = sf_df.append(sf_df2013, ignore_index=True)\n",
    "sf_df = sf_df.append(sf_df2012, ignore_index=True)\n",
    "sf_df = sf_df.append(sf_df2011, ignore_index=True)\n",
    "sf_df = sf_df.append(sf_df2010, ignore_index=True)\n",
    "\n",
    "sf_df = clean_columns(df=sf_df, home_team='49ers')\n",
    "\n",
    "sf_df"
   ]
  },
  {
   "cell_type": "code",
   "execution_count": 26,
   "metadata": {},
   "outputs": [],
   "source": [
    "niners_df = sf_df.copy()\n",
    "niners_df.to_csv('Resources/niners.csv')"
   ]
  },
  {
   "cell_type": "markdown",
   "metadata": {},
   "source": [
    "### Rams Data, 2010-2019"
   ]
  },
  {
   "cell_type": "code",
   "execution_count": null,
   "metadata": {},
   "outputs": [],
   "source": [
    "# Data Source: https://www.pro-football-reference.com/teams/sfo/index.htm\n",
    "# Years selected and then data downloaded as xls files\n",
    "# In Excel, cells were reformatted to be compatible with a csv format\n",
    "\n",
    "rams_df2010 = pd.read_csv('Resources/rams_sportsref_download2010.csv')\n",
    "rams_df2011 = pd.read_csv('Resources/rams_sportsref_download2011.csv')\n",
    "rams_df2012 = pd.read_csv('Resources/rams_sportsref_download2012.csv')\n",
    "rams_df2013 = pd.read_csv('Resources/rams_sportsref_download2013.csv')\n",
    "rams_df2014 = pd.read_csv('Resources/rams_sportsref_download2014.csv')\n",
    "rams_df2015 = pd.read_csv('Resources/rams_sportsref_download2015.csv')\n",
    "rams_df2016 = pd.read_csv('Resources/rams_sportsref_download2016.csv')\n",
    "rams_df2017 = pd.read_csv('Resources/rams_sportsref_download2017.csv')\n",
    "rams_df2018 = pd.read_csv('Resources/rams_sportsref_download2018.csv')\n",
    "rams_df2019 = pd.read_csv('Resources/rams_sportsref_download2019.csv')\n",
    "\n",
    "rams_df2010 = yearly_data(df=rams_df2010, year=2010, \n",
    "                        HC='Mike Singletary', HC2_range=17, HC2='Jim Tomsula', \n",
    "                        OC='Jimmy Raye', \n",
    "                        DC='Greg Manusky', \n",
    "                        QB='Alex Smith', \n",
    "                        QB2='David Carr', QB2_range=7)\n",
    "rams_df2010.loc[rams_df2010['QB'] == range(8,13,1), 'QB'] = \"Troy Smith\"\n",
    "\n",
    "rams_df2011 = yearly_data(df=rams_df2011, year=2011, \n",
    "                        HC='Jim Harbaugh', \n",
    "                        OC='Greg Roman', \n",
    "                        DC='Vic Fangio', \n",
    "                        QB='Alex Smith')\n",
    "rams_df2012 = yearly_data(df=rams_df2012, year=2012, \n",
    "                        HC='Jim Harbaugh', \n",
    "                        OC='Greg Roman', \n",
    "                        DC='Vic Fangio',\n",
    "                        QB='Alex Smith', \n",
    "                        QB2='Colin Kaepernick', QB2_range=range(10,18,1))\n",
    "rams_df2013 = yearly_data(df=rams_df2013, year=2013, \n",
    "                        HC='Jim Harbaugh', \n",
    "                        OC='Greg Roman', \n",
    "                        DC='Vic Fangio', \n",
    "                        QB='Colin Kaepernick')\n",
    "rams_df2014 = yearly_data(df=rams_df2014, year=2014, \n",
    "                        HC='Jim Harbaugh', \n",
    "                        OC='Greg Roman', \n",
    "                        DC='Vic Fangio', \n",
    "                        QB='Colin Kaepernick')\n",
    "rams_df2015 = yearly_data(df=rams_df2015, year=2015, \n",
    "                        HC='Jim Tomsula', \n",
    "                        OC='Geep Chryst', \n",
    "                        DC='Eric Mangini', \n",
    "                        QB='Colin Kaepernick',\n",
    "                        QB2='Blaine Gabbert', QB2_range=range(10,18,1))\n",
    "rams_df2016 = yearly_data(df=rams_df2016, year=2016, \n",
    "                        HC='Chip Kelly', \n",
    "                        OC='Curtis Modkins', \n",
    "                        DC=\"Jim O'Neil\", \n",
    "                        QB='Blaine Gabbert',\n",
    "                        QB2='Colin Kaepernick', QB2_range=(6,18,1))\n",
    "rams_df2017 = yearly_data(df=rams_df2017, year=2017, \n",
    "                        HC='Kyle Shanahan', \n",
    "                        OC='Kyle Shanahan', \n",
    "                        DC='Robert Saleh', \n",
    "                        QB='Brian Hoyer',\n",
    "                        QB2='C.J. Beathard', QB2_range=range(7,13,1))\n",
    "rams_df2017.loc[rams_df2017['QB'] == range(12,18,1), 'QB'] = \"Jimmy Garoppolo\"\n",
    "\n",
    "rams_df2018 = yearly_data(df=rams_df2018, year=2018, \n",
    "                        HC='Kyle Shanahan', \n",
    "                        OC='Kyle Shanahan', \n",
    "                        DC='Robert Saleh', \n",
    "                        QB='Jimmy Garoppolo',\n",
    "                        QB2='C.J. Beathard', QB2_range=range(3,9,1))\n",
    "rams_df2018.loc[rams_df2018['QB'] == range(8,18,1), 'QB'] = \"Nick Mullens\"\n",
    "\n",
    "rams_df2019 = yearly_data(df=rams_df2019, year=2019, \n",
    "                        HC='Kyle Shanahan', \n",
    "                        OC='Kyle Shanahan', \n",
    "                        DC='Robert Saleh', \n",
    "                        QB='Jimmy Garoppolo')\n",
    "\n",
    "# Make master dataframe for team\n",
    "rams_df = rams_df2019.append(rams_df2018, ignore_index=True)\n",
    "rams_df = rams_df.append(rams_df2017, ignore_index=True)\n",
    "rams_df = rams_df.append(rams_df2016, ignore_index=True)\n",
    "rams_df = rams_df.append(rams_df2015, ignore_index=True)\n",
    "rams_df = rams_df.append(rams_df2014, ignore_index=True)\n",
    "rams_df = rams_df.append(rams_df2013, ignore_index=True)\n",
    "rams_df = rams_df.append(rams_df2012, ignore_index=True)\n",
    "rams_df = rams_df.append(rams_df2011, ignore_index=True)\n",
    "rams_df = rams_df.append(rams_df2010, ignore_index=True)\n",
    "\n",
    "rams_df = clean_columns(df=rams_df, home_team='Rams')\n",
    "\n",
    "rams_df"
   ]
  },
  {
   "cell_type": "code",
   "execution_count": null,
   "metadata": {},
   "outputs": [],
   "source": [
    "rams_df.to_csv('Resources/rams.csv')"
   ]
  },
  {
   "cell_type": "markdown",
   "metadata": {},
   "source": [
    "### Chargers Data, 2010-2019"
   ]
  },
  {
   "cell_type": "code",
   "execution_count": null,
   "metadata": {},
   "outputs": [],
   "source": [
    "# Data Source: https://www.pro-football-reference.com/teams/sfo/index.htm\n",
    "# Years selected and then data downloaded as xls files\n",
    "# In Excel, cells were reformatted to be compatible with a csv format\n",
    "\n",
    "chargers_df2010 = pd.read_csv('Resources/chargers_sportsref_download2010.csv')\n",
    "chargers_df2010['year'] = 2010\n",
    "chargers_df2010 = tallies(chargers_df2010)\n",
    "chargers_df2010['Head_Coach'] = \"\"\n",
    "chargers_df2010.loc[chargers_df2010['Week'] == , 'Head_Coach'] = \"\"\n",
    "chargers_df2010['OC'] = \"\"\n",
    "chargers_df2010['DC'] = \"\"\n",
    "chargers_df2010['QB'] = \"\"\n",
    "chargers_df2010.loc[chargers_df2010['QB'] == , 'QB'] = \"\"\n",
    "\n",
    "chargers_df2010 = pd.read_csv('Resources/chargers_sportsref_download2010.csv')\n",
    "yearly_data(df=chargers_df2010, year=2010, HC='', HC2_range, HC2='none', OC='', DC='', QB2_range, QB2='')\n",
    "\n",
    "\n",
    "chargers_df2011 = pd.read_csv('Resources/chargers_sportsref_download2011.csv')\n",
    "chargers_df2011['year'] = 2011\n",
    "chargers_df2011 = tallies(chargers_df2011)\n",
    "chargers_df2011['Head_Coach'] = \"\"\n",
    "chargers_df2011.loc[chargers_df2011['Week'] == , 'Head_Coach'] = \"\"\n",
    "chargers_df2011['OC'] = \"\"\n",
    "chargers_df2011['DC'] = \"\"\n",
    "chargers_df2011['QB'] = \"\"\n",
    "chargers_df2011.loc[chargers_df2011['QB'] == , 'QB'] = \"\"\n",
    "\n",
    "chargers_df2012 = pd.read_csv('Resources/chargers_sportsref_download2012.csv')\n",
    "chargers_df2012['year'] = 2012\n",
    "chargers_df2012 = tallies(chargers_df2012)\n",
    "chargers_df2012['Head_Coach'] = \"\"\n",
    "chargers_df2012.loc[chargers_df2012['Week'] == , 'Head_Coach'] = \"\"\n",
    "chargers_df2012['OC'] = \"\"\n",
    "chargers_df2012['DC'] = \"\"\n",
    "chargers_df2012['QB'] = \"\"\n",
    "chargers_df2012.loc[chargers_df2012['QB'] == , 'QB'] = \"\"\n",
    "\n",
    "chargers_df2013 = pd.read_csv('Resources/chargers_sportsref_download2013.csv')\n",
    "chargers_df2013['year'] = 2013\n",
    "chargers_df2013 = tallies(chargers_df2013)\n",
    "chargers_df2013['Head_Coach'] = \"\"\n",
    "chargers_df2013.loc[chargers_df2013['Week'] == , 'Head_Coach'] = \"\"\n",
    "chargers_df2013['OC'] = \"\"\n",
    "chargers_df2013['DC'] = \"\"\n",
    "chargers_df2013['QB'] = \"\"\n",
    "chargers_df2013.loc[chargers_df2013['QB'] == , 'QB'] = \"\"\n",
    "\n",
    "chargers_df2014 = pd.read_csv('Resources/chargers_sportsref_download2014.csv')\n",
    "chargers_df2014['year'] = 2014\n",
    "chargers_df2014 = tallies(chargers_df2014)\n",
    "chargers_df2014['Head_Coach'] = \"\"\n",
    "chargers_df2014.loc[chargers_df2014['Week'] == , 'Head_Coach'] = \"\"\n",
    "chargers_df2014['OC'] = \"\"\n",
    "chargers_df2014['DC'] = \"\"\n",
    "chargers_df2014['QB'] = \"\"\n",
    "chargers_df2014.loc[chargers_df2014['QB'] == , 'QB'] = \"\"\n",
    "\n",
    "chargers_df2015 = pd.read_csv('Resources/chargers_sportsref_download2015.csv')\n",
    "chargers_df2015['year'] = 2015\n",
    "chargers_df2015 = tallies(chargers_df2015)\n",
    "chargers_df2015['Head_Coach'] = \"\"\n",
    "chargers_df2015.loc[chargers_df2015['Week'] == , 'Head_Coach'] = \"\"\n",
    "chargers_df2015['OC'] = \"\"\n",
    "chargers_df2015['DC'] = \"\"\n",
    "chargers_df2015['QB'] = \"\"\n",
    "chargers_df2015.loc[chargers_df2015['QB'] == , 'QB'] = \"\"\n",
    "\n",
    "chargers_df2016 = pd.read_csv('Resources/chargers_sportsref_download2016.csv')\n",
    "chargers_df2016['year'] = 2016\n",
    "chargers_df2016 = tallies(chargers_df2016)\n",
    "chargers_df2016['Head_Coach'] = \"\"\n",
    "chargers_df2016.loc[chargers_df2016['Week'] == , 'Head_Coach'] = \"\"\n",
    "chargers_df2016['OC'] = \"\"\n",
    "chargers_df2016['DC'] = \"\"\n",
    "chargers_df2016['QB'] = \"\"\n",
    "chargers_df2016.loc[chargers_df2016['QB'] == , 'QB'] = \"\"\n",
    "\n",
    "chargers_df2017 = pd.read_csv('Resources/chargers_sportsref_download2017.csv')\n",
    "chargers_df2017['year'] = 2017\n",
    "chargers_df2017 = tallies(chargers_df2017)\n",
    "chargers_df2017['Head_Coach'] = \"\"\n",
    "chargers_df2017.loc[chargers_df2017['Week'] == , 'Head_Coach'] = \"\"\n",
    "chargers_df2017['OC'] = \"\"\n",
    "chargers_df2017['DC'] = \"\"\n",
    "chargers_df2017['QB'] = \"\"\n",
    "chargers_df2017.loc[chargers_df2017['QB'] == , 'QB'] = \"\"\n",
    "\n",
    "chargers_df2018 = pd.read_csv('Resources/chargers_sportsref_download2018.csv')\n",
    "chargers_df2018['year'] = 2018\n",
    "chargers_df2018 = tallies(chargers_df2018)\n",
    "chargers_df2018['Head_Coach'] = \"\"\n",
    "chargers_df2018.loc[chargers_df2018['Week'] == , 'Head_Coach'] = \"\"\n",
    "chargers_df2018['OC'] = \"\"\n",
    "chargers_df2018['DC'] = \"\"\n",
    "chargers_df2018['QB'] = \"\"\n",
    "chargers_df2018.loc[chargers_df2018['QB'] == , 'QB'] = \"\"\n",
    "\n",
    "chargers_df2019 = pd.read_csv('Resources/chargers_sportsref_download2019.csv')\n",
    "chargers_df2019['year'] = 2019\n",
    "chargers_df2019 = tallies(chargers_df2019)\n",
    "chargers_df2019['Head_Coach'] = \"\"\n",
    "chargers_df2019.loc[chargers_df2019['Week'] == , 'Head_Coach'] = \"\"\n",
    "chargers_df2019['OC'] = \"\"\n",
    "chargers_df2019['DC'] = \"\"\n",
    "chargers_df2019['QB'] = \"\"\n",
    "chargers_df2019.loc[chargers_df2019['QB'] == , 'QB'] = \"\"\n",
    "\n",
    "# Make master dataframe for team\n",
    "chargers_df = chargers_df2019.append(chargers_df2018, ignore_index=True)\n",
    "chargers_df = chargers_df.append(chargers_df2017, ignore_index=True)\n",
    "chargers_df = chargers_df.append(chargers_df2016, ignore_index=True)\n",
    "chargers_df = chargers_df.append(chargers_df2015, ignore_index=True)\n",
    "chargers_df = chargers_df.append(chargers_df2014, ignore_index=True)\n",
    "chargers_df = chargers_df.append(chargers_df2013, ignore_index=True)\n",
    "chargers_df = chargers_df.append(chargers_df2012, ignore_index=True)\n",
    "chargers_df = chargers_df.append(chargers_df2011, ignore_index=True)\n",
    "chargers_df = chargers_df.append(chargers_df2010, ignore_index=True)\n",
    "\n",
    "chargers_df = clean_columns(df=chargers_df, home_team='Chargers')"
   ]
  },
  {
   "cell_type": "markdown",
   "metadata": {},
   "source": [
    "### Seahawks Data, 2010-2019"
   ]
  },
  {
   "cell_type": "code",
   "execution_count": null,
   "metadata": {},
   "outputs": [],
   "source": []
  },
  {
   "cell_type": "markdown",
   "metadata": {},
   "source": [
    "### Cardinals Data, 2010-2019"
   ]
  },
  {
   "cell_type": "code",
   "execution_count": null,
   "metadata": {},
   "outputs": [],
   "source": []
  },
  {
   "cell_type": "markdown",
   "metadata": {},
   "source": [
    "### Packers Data, 2010-2019"
   ]
  },
  {
   "cell_type": "code",
   "execution_count": null,
   "metadata": {},
   "outputs": [],
   "source": []
  },
  {
   "cell_type": "markdown",
   "metadata": {},
   "source": [
    "### Saints Data, 2010-2019"
   ]
  },
  {
   "cell_type": "code",
   "execution_count": null,
   "metadata": {},
   "outputs": [],
   "source": []
  },
  {
   "cell_type": "markdown",
   "metadata": {},
   "source": [
    "### Giants Data, 2010-2019"
   ]
  },
  {
   "cell_type": "code",
   "execution_count": null,
   "metadata": {},
   "outputs": [],
   "source": []
  },
  {
   "cell_type": "markdown",
   "metadata": {},
   "source": [
    "### Bears Data, 2010-2019"
   ]
  },
  {
   "cell_type": "code",
   "execution_count": null,
   "metadata": {},
   "outputs": [],
   "source": []
  },
  {
   "cell_type": "markdown",
   "metadata": {},
   "source": [
    "### Panthers Data, 2010-2019"
   ]
  },
  {
   "cell_type": "code",
   "execution_count": null,
   "metadata": {},
   "outputs": [],
   "source": []
  },
  {
   "cell_type": "markdown",
   "metadata": {},
   "source": [
    "### Bucs Data, 2010-2019"
   ]
  },
  {
   "cell_type": "code",
   "execution_count": null,
   "metadata": {},
   "outputs": [],
   "source": []
  },
  {
   "cell_type": "markdown",
   "metadata": {},
   "source": [
    "### Falcons Data, 2010-2019"
   ]
  },
  {
   "cell_type": "code",
   "execution_count": null,
   "metadata": {},
   "outputs": [],
   "source": []
  },
  {
   "cell_type": "markdown",
   "metadata": {},
   "source": [
    "### Washington Data, 2010-2019"
   ]
  },
  {
   "cell_type": "code",
   "execution_count": null,
   "metadata": {},
   "outputs": [],
   "source": []
  },
  {
   "cell_type": "markdown",
   "metadata": {},
   "source": [
    "### Ravens Data, 2010-2019"
   ]
  },
  {
   "cell_type": "code",
   "execution_count": null,
   "metadata": {},
   "outputs": [],
   "source": []
  },
  {
   "cell_type": "markdown",
   "metadata": {},
   "source": [
    "### Eagles Data, 2010-2019"
   ]
  },
  {
   "cell_type": "code",
   "execution_count": null,
   "metadata": {},
   "outputs": [],
   "source": []
  },
  {
   "cell_type": "markdown",
   "metadata": {},
   "source": [
    "### Cowboys Data, 2010-2019"
   ]
  },
  {
   "cell_type": "code",
   "execution_count": null,
   "metadata": {},
   "outputs": [],
   "source": []
  },
  {
   "cell_type": "markdown",
   "metadata": {},
   "source": [
    "### Chiefs Data, 2010-2019"
   ]
  },
  {
   "cell_type": "code",
   "execution_count": null,
   "metadata": {},
   "outputs": [],
   "source": []
  },
  {
   "cell_type": "markdown",
   "metadata": {},
   "source": [
    "### Lions Data, 2010-2019"
   ]
  },
  {
   "cell_type": "code",
   "execution_count": null,
   "metadata": {},
   "outputs": [],
   "source": []
  },
  {
   "cell_type": "markdown",
   "metadata": {},
   "source": [
    "### Vikings Data, 2010-2019"
   ]
  },
  {
   "cell_type": "code",
   "execution_count": null,
   "metadata": {},
   "outputs": [],
   "source": []
  },
  {
   "cell_type": "markdown",
   "metadata": {},
   "source": [
    "### Bengals Data, 2010-2019"
   ]
  },
  {
   "cell_type": "code",
   "execution_count": null,
   "metadata": {},
   "outputs": [],
   "source": []
  },
  {
   "cell_type": "markdown",
   "metadata": {},
   "source": [
    "### Raiders Data, 2010-2019"
   ]
  },
  {
   "cell_type": "code",
   "execution_count": null,
   "metadata": {},
   "outputs": [],
   "source": []
  },
  {
   "cell_type": "markdown",
   "metadata": {},
   "source": [
    "### Steelers Data, 2010-2019"
   ]
  },
  {
   "cell_type": "code",
   "execution_count": null,
   "metadata": {},
   "outputs": [],
   "source": []
  },
  {
   "cell_type": "markdown",
   "metadata": {},
   "source": [
    "### Browns Data, 2010-2019"
   ]
  },
  {
   "cell_type": "code",
   "execution_count": null,
   "metadata": {},
   "outputs": [],
   "source": []
  },
  {
   "cell_type": "markdown",
   "metadata": {},
   "source": [
    "### Broncos Data, 2010-2019"
   ]
  },
  {
   "cell_type": "code",
   "execution_count": null,
   "metadata": {},
   "outputs": [],
   "source": []
  },
  {
   "cell_type": "markdown",
   "metadata": {},
   "source": [
    "### Colts Data, 2010-2019"
   ]
  },
  {
   "cell_type": "code",
   "execution_count": null,
   "metadata": {},
   "outputs": [],
   "source": []
  },
  {
   "cell_type": "markdown",
   "metadata": {},
   "source": [
    "### Broncos Data, 2010-2019"
   ]
  },
  {
   "cell_type": "code",
   "execution_count": null,
   "metadata": {},
   "outputs": [],
   "source": []
  },
  {
   "cell_type": "markdown",
   "metadata": {},
   "source": [
    "### Texans Data, 2010-2019"
   ]
  },
  {
   "cell_type": "code",
   "execution_count": null,
   "metadata": {},
   "outputs": [],
   "source": []
  },
  {
   "cell_type": "markdown",
   "metadata": {},
   "source": [
    "### Jets Data, 2010-2019"
   ]
  },
  {
   "cell_type": "code",
   "execution_count": null,
   "metadata": {},
   "outputs": [],
   "source": []
  },
  {
   "cell_type": "markdown",
   "metadata": {},
   "source": [
    "### Jaguars Data, 2010-2019"
   ]
  },
  {
   "cell_type": "code",
   "execution_count": null,
   "metadata": {},
   "outputs": [],
   "source": []
  },
  {
   "cell_type": "markdown",
   "metadata": {},
   "source": [
    "### Dolphins Data, 2010-2019"
   ]
  },
  {
   "cell_type": "code",
   "execution_count": null,
   "metadata": {},
   "outputs": [],
   "source": []
  },
  {
   "cell_type": "markdown",
   "metadata": {},
   "source": [
    "### Patriots Data, 2010-2019"
   ]
  },
  {
   "cell_type": "code",
   "execution_count": null,
   "metadata": {},
   "outputs": [],
   "source": []
  },
  {
   "cell_type": "markdown",
   "metadata": {},
   "source": [
    "### Bills Data, 2010-2019"
   ]
  },
  {
   "cell_type": "code",
   "execution_count": null,
   "metadata": {},
   "outputs": [],
   "source": []
  },
  {
   "cell_type": "markdown",
   "metadata": {},
   "source": [
    "### Titans Data, 2010-2019"
   ]
  },
  {
   "cell_type": "code",
   "execution_count": null,
   "metadata": {},
   "outputs": [],
   "source": []
  }
 ],
 "metadata": {
  "kernelspec": {
   "display_name": "PythonData",
   "language": "python",
   "name": "pythondata"
  },
  "language_info": {
   "codemirror_mode": {
    "name": "ipython",
    "version": 3
   },
   "file_extension": ".py",
   "mimetype": "text/x-python",
   "name": "python",
   "nbconvert_exporter": "python",
   "pygments_lexer": "ipython3",
   "version": "3.8.3"
  }
 },
 "nbformat": 4,
 "nbformat_minor": 4
}
